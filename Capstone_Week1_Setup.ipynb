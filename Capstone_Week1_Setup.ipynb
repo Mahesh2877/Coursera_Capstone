{
  "nbformat": 4,
  "nbformat_minor": 0,
  "metadata": {
    "colab": {
      "name": "Capstone Week1 Setup.ipynb",
      "provenance": [],
      "collapsed_sections": []
    },
    "kernelspec": {
      "name": "python3",
      "display_name": "Python 3"
    }
  },
  "cells": [
    {
      "cell_type": "markdown",
      "metadata": {
        "id": "-kFcDqebkF66"
      },
      "source": [
        "### Final project Capstone\n",
        "This notebook will be used for the final project of the \"Applied Data Science Capstone\" course in COursera\n"
      ]
    },
    {
      "cell_type": "code",
      "metadata": {
        "id": "ZCgeEaEyj_fg"
      },
      "source": [
        "import pandas as pd\n",
        "import numpy as np"
      ],
      "execution_count": 6,
      "outputs": []
    },
    {
      "cell_type": "code",
      "metadata": {
        "id": "PHZQzrcxkZXz",
        "outputId": "8d59b7b4-4fce-46bb-db31-b297934f347e",
        "colab": {
          "base_uri": "https://localhost:8080/",
          "height": 51
        }
      },
      "source": [
        "display(pd)\n",
        "display(np)"
      ],
      "execution_count": 7,
      "outputs": [
        {
          "output_type": "display_data",
          "data": {
            "text/plain": [
              "<module 'pandas' from '/usr/local/lib/python3.6/dist-packages/pandas/__init__.py'>"
            ]
          },
          "metadata": {
            "tags": []
          }
        },
        {
          "output_type": "display_data",
          "data": {
            "text/plain": [
              "<module 'numpy' from '/usr/local/lib/python3.6/dist-packages/numpy/__init__.py'>"
            ]
          },
          "metadata": {
            "tags": []
          }
        }
      ]
    },
    {
      "cell_type": "code",
      "metadata": {
        "id": "d458KnC4kSel",
        "outputId": "1f90dd5e-99d1-457a-b83f-4adbc31b4a0b",
        "colab": {
          "base_uri": "https://localhost:8080/",
          "height": 35
        }
      },
      "source": [
        "display(\"Hello Capstone Project Course!\")"
      ],
      "execution_count": 8,
      "outputs": [
        {
          "output_type": "display_data",
          "data": {
            "application/vnd.google.colaboratory.intrinsic+json": {
              "type": "string"
            },
            "text/plain": [
              "'Hello Capstone Project Course!'"
            ]
          },
          "metadata": {
            "tags": []
          }
        }
      ]
    }
  ]
}