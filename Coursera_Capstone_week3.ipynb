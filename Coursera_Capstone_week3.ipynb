{
 "cells": [
  {
   "cell_type": "markdown",
   "metadata": {},
   "source": [
    "### Downloading and installing the necessary libraries"
   ]
  },
  {
   "cell_type": "code",
   "execution_count": null,
   "metadata": {},
   "outputs": [],
   "source": [
    "#!pip install lxml\n",
    "#!conda install -c anaconda beautifulsoup4"
   ]
  },
  {
   "cell_type": "markdown",
   "metadata": {},
   "source": [
    "### Importing the necessary libraries"
   ]
  },
  {
   "cell_type": "code",
   "execution_count": 2,
   "metadata": {},
   "outputs": [],
   "source": [
    "from bs4 import BeautifulSoup\n",
    "import pandas as pd\n",
    "import requests"
   ]
  },
  {
   "cell_type": "markdown",
   "metadata": {},
   "source": [
    "### Use the GET and BEAUTIFULSOUP methods to obtain the raw html content of the url"
   ]
  },
  {
   "cell_type": "code",
   "execution_count": 26,
   "metadata": {},
   "outputs": [],
   "source": [
    "res = requests.get(\"https://en.wikipedia.org/wiki/List_of_postal_codes_of_Canada:_M\")\n",
    "soup = BeautifulSoup(res.content,'lxml')"
   ]
  },
  {
   "cell_type": "markdown",
   "metadata": {},
   "source": [
    "### Use the find_all() method to extract the table contents and store it in a dataframe"
   ]
  },
  {
   "cell_type": "code",
   "execution_count": 27,
   "metadata": {},
   "outputs": [],
   "source": [
    "table = soup.find_all('table')[0]\n",
    "df = pd.read_html(str(table))[0]"
   ]
  },
  {
   "cell_type": "markdown",
   "metadata": {},
   "source": [
    "### What is the shape and the columns of the dataframe?"
   ]
  },
  {
   "cell_type": "code",
   "execution_count": 28,
   "metadata": {},
   "outputs": [
    {
     "name": "stdout",
     "output_type": "stream",
     "text": [
      "(180, 3)\n",
      "Index(['Postal Code', 'Borough', 'Neighbourhood'], dtype='object')\n"
     ]
    }
   ],
   "source": [
    "print(df.shape)\n",
    "print(df.columns)"
   ]
  },
  {
   "cell_type": "markdown",
   "metadata": {},
   "source": [
    "### We need to remove the rows that do not have an assigned Borough."
   ]
  },
  {
   "cell_type": "markdown",
   "metadata": {},
   "source": [
    "Check the unique values of Borough"
   ]
  },
  {
   "cell_type": "code",
   "execution_count": 29,
   "metadata": {
    "collapsed": true,
    "jupyter": {
     "outputs_hidden": true
    }
   },
   "outputs": [
    {
     "data": {
      "text/plain": [
       "array(['Not assigned', 'North York', 'Downtown Toronto', 'Etobicoke',\n",
       "       'Scarborough', 'East York', 'York', 'East Toronto', 'West Toronto',\n",
       "       'Central Toronto', 'Mississauga'], dtype=object)"
      ]
     },
     "execution_count": 29,
     "metadata": {},
     "output_type": "execute_result"
    }
   ],
   "source": [
    "df['Borough'].unique()"
   ]
  },
  {
   "cell_type": "markdown",
   "metadata": {},
   "source": [
    "If the Borough value is \"Not assigned\" - remove it from the dataframe"
   ]
  },
  {
   "cell_type": "code",
   "execution_count": 30,
   "metadata": {
    "collapsed": true,
    "jupyter": {
     "outputs_hidden": true
    }
   },
   "outputs": [
    {
     "data": {
      "text/plain": [
       "array(['North York', 'Downtown Toronto', 'Etobicoke', 'Scarborough',\n",
       "       'East York', 'York', 'East Toronto', 'West Toronto',\n",
       "       'Central Toronto', 'Mississauga'], dtype=object)"
      ]
     },
     "execution_count": 30,
     "metadata": {},
     "output_type": "execute_result"
    }
   ],
   "source": [
    "df = df[df['Borough'] != 'Not assigned']\n",
    "df['Borough'].unique()"
   ]
  },
  {
   "cell_type": "markdown",
   "metadata": {},
   "source": [
    " Now check the updated shape and number of rows of the dataframe"
   ]
  },
  {
   "cell_type": "code",
   "execution_count": 31,
   "metadata": {},
   "outputs": [
    {
     "name": "stdout",
     "output_type": "stream",
     "text": [
      "(103, 3)\n"
     ]
    }
   ],
   "source": [
    "print(df.shape)"
   ]
  },
  {
   "cell_type": "markdown",
   "metadata": {},
   "source": [
    "### Check for any \"Not assigned\" Neighbourhoods"
   ]
  },
  {
   "cell_type": "code",
   "execution_count": 33,
   "metadata": {},
   "outputs": [
    {
     "data": {
      "text/plain": [
       "['Parkwoods',\n",
       " 'Victoria Village',\n",
       " 'Regent Park, Harbourfront',\n",
       " 'Lawrence Manor, Lawrence Heights',\n",
       " \"Queen's Park, Ontario Provincial Government\",\n",
       " 'Islington Avenue, Humber Valley Village',\n",
       " 'Malvern, Rouge',\n",
       " 'Don Mills',\n",
       " 'Parkview Hill, Woodbine Gardens',\n",
       " 'Garden District, Ryerson',\n",
       " 'Glencairn',\n",
       " 'West Deane Park, Princess Gardens, Martin Grove, Islington, Cloverdale',\n",
       " 'Rouge Hill, Port Union, Highland Creek',\n",
       " 'Woodbine Heights',\n",
       " 'St. James Town',\n",
       " 'Humewood-Cedarvale',\n",
       " 'Eringate, Bloordale Gardens, Old Burnhamthorpe, Markland Wood',\n",
       " 'Guildwood, Morningside, West Hill',\n",
       " 'The Beaches',\n",
       " 'Berczy Park',\n",
       " 'Caledonia-Fairbanks',\n",
       " 'Woburn',\n",
       " 'Leaside',\n",
       " 'Central Bay Street',\n",
       " 'Christie',\n",
       " 'Cedarbrae',\n",
       " 'Hillcrest Village',\n",
       " 'Bathurst Manor, Wilson Heights, Downsview North',\n",
       " 'Thorncliffe Park',\n",
       " 'Richmond, Adelaide, King',\n",
       " 'Dufferin, Dovercourt Village',\n",
       " 'Scarborough Village',\n",
       " 'Fairview, Henry Farm, Oriole',\n",
       " 'Northwood Park, York University',\n",
       " 'East Toronto, Broadview North (Old East York)',\n",
       " 'Harbourfront East, Union Station, Toronto Islands',\n",
       " 'Little Portugal, Trinity',\n",
       " 'Kennedy Park, Ionview, East Birchmount Park',\n",
       " 'Bayview Village',\n",
       " 'Downsview',\n",
       " 'The Danforth West, Riverdale',\n",
       " 'Toronto Dominion Centre, Design Exchange',\n",
       " 'Brockton, Parkdale Village, Exhibition Place',\n",
       " 'Golden Mile, Clairlea, Oakridge',\n",
       " 'York Mills, Silver Hills',\n",
       " 'India Bazaar, The Beaches West',\n",
       " 'Commerce Court, Victoria Hotel',\n",
       " 'North Park, Maple Leaf Park, Upwood Park',\n",
       " 'Humber Summit',\n",
       " 'Cliffside, Cliffcrest, Scarborough Village West',\n",
       " 'Willowdale, Newtonbrook',\n",
       " 'Studio District',\n",
       " 'Bedford Park, Lawrence Manor East',\n",
       " 'Del Ray, Mount Dennis, Keelsdale and Silverthorn',\n",
       " 'Humberlea, Emery',\n",
       " 'Birch Cliff, Cliffside West',\n",
       " 'Willowdale, Willowdale East',\n",
       " 'Lawrence Park',\n",
       " 'Roselawn',\n",
       " 'Runnymede, The Junction North',\n",
       " 'Weston',\n",
       " 'Dorset Park, Wexford Heights, Scarborough Town Centre',\n",
       " 'York Mills West',\n",
       " 'Davisville North',\n",
       " 'Forest Hill North & West, Forest Hill Road Park',\n",
       " 'High Park, The Junction South',\n",
       " 'Westmount',\n",
       " 'Wexford, Maryvale',\n",
       " 'Willowdale, Willowdale West',\n",
       " 'North Toronto West, Lawrence Park',\n",
       " 'The Annex, North Midtown, Yorkville',\n",
       " 'Parkdale, Roncesvalles',\n",
       " 'Canada Post Gateway Processing Centre',\n",
       " 'Kingsview Village, St. Phillips, Martin Grove Gardens, Richview Gardens',\n",
       " 'Agincourt',\n",
       " 'Davisville',\n",
       " 'University of Toronto, Harbord',\n",
       " 'Runnymede, Swansea',\n",
       " \"Clarks Corners, Tam O'Shanter, Sullivan\",\n",
       " 'Moore Park, Summerhill East',\n",
       " 'Kensington Market, Chinatown, Grange Park',\n",
       " \"Milliken, Agincourt North, Steeles East, L'Amoreaux East\",\n",
       " 'Summerhill West, Rathnelly, South Hill, Forest Hill SE, Deer Park',\n",
       " 'CN Tower, King and Spadina, Railway Lands, Harbourfront West, Bathurst Quay, South Niagara, Island airport',\n",
       " 'New Toronto, Mimico South, Humber Bay Shores',\n",
       " 'South Steeles, Silverstone, Humbergate, Jamestown, Mount Olive, Beaumond Heights, Thistletown, Albion Gardens',\n",
       " \"Steeles West, L'Amoreaux West\",\n",
       " 'Rosedale',\n",
       " 'Stn A PO Boxes',\n",
       " 'Alderwood, Long Branch',\n",
       " 'Northwest, West Humber - Clairville',\n",
       " 'Upper Rouge',\n",
       " 'St. James Town, Cabbagetown',\n",
       " 'First Canadian Place, Underground city',\n",
       " 'The Kingsway, Montgomery Road, Old Mill North',\n",
       " 'Church and Wellesley',\n",
       " 'Business reply mail Processing Centre, South Central Letter Processing Plant Toronto',\n",
       " \"Old Mill South, King's Mill Park, Sunnylea, Humber Bay, Mimico NE, The Queensway East, Royal York South East, Kingsway Park South East\",\n",
       " 'Mimico NW, The Queensway West, South of Bloor, Kingsway Park South West, Royal York South West']"
      ]
     },
     "execution_count": 33,
     "metadata": {},
     "output_type": "execute_result"
    }
   ],
   "source": [
    "df['Neighbourhood'].unique().tolist()"
   ]
  },
  {
   "cell_type": "markdown",
   "metadata": {},
   "source": [
    "There happens to be no Neighbour that is \"not assigned\". So we need to remove any Neighbourhood.\n",
    "\n",
    "On a side-note: It is possible that a Borough can belong to multiple Neighbourhoods as seen in the \"Neighbourhood\" column here."
   ]
  },
  {
   "cell_type": "markdown",
   "metadata": {},
   "source": [
    "### What is the final Shape of the dataframe?"
   ]
  },
  {
   "cell_type": "code",
   "execution_count": 34,
   "metadata": {},
   "outputs": [
    {
     "name": "stdout",
     "output_type": "stream",
     "text": [
      "(103, 3)\n"
     ]
    }
   ],
   "source": [
    "print(df.shape)"
   ]
  }
 ],
 "metadata": {
  "kernelspec": {
   "display_name": "Python",
   "language": "python",
   "name": "conda-env-python-py"
  },
  "language_info": {
   "codemirror_mode": {
    "name": "ipython",
    "version": 3
   },
   "file_extension": ".py",
   "mimetype": "text/x-python",
   "name": "python",
   "nbconvert_exporter": "python",
   "pygments_lexer": "ipython3",
   "version": "3.6.11"
  }
 },
 "nbformat": 4,
 "nbformat_minor": 4
}
